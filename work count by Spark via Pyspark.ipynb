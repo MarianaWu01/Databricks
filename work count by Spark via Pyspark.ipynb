{
 "cells": [
  {
   "cell_type": "code",
   "execution_count": 0,
   "metadata": {
    "application/vnd.databricks.v1+cell": {
     "cellMetadata": {
      "byteLimit": 2048000,
      "rowLimit": 10000
     },
     "inputWidgets": {},
     "nuid": "a9f78068-aeb7-4e8a-b492-0eac1f46604f",
     "showTitle": false,
     "title": ""
    }
   },
   "outputs": [],
   "source": [
    "%python\n",
    "text_file = sc.textFile(\"/FileStore/tables/README.md\")"
   ]
  },
  {
   "cell_type": "code",
   "execution_count": 0,
   "metadata": {
    "application/vnd.databricks.v1+cell": {
     "cellMetadata": {
      "byteLimit": 2048000,
      "rowLimit": 10000
     },
     "inputWidgets": {},
     "nuid": "be0ffae0-4a7d-4ae3-a04c-8eca70e5c001",
     "showTitle": false,
     "title": ""
    }
   },
   "outputs": [],
   "source": [
    "%python\n",
    "counts = text_file.flatMap(lambda line: line.split(\" \")) \\\n",
    "             .map(lambda word: (word, 1)) \\\n",
    "             .reduceByKey(lambda a, b: a + b)"
   ]
  },
  {
   "cell_type": "code",
   "execution_count": 0,
   "metadata": {
    "application/vnd.databricks.v1+cell": {
     "cellMetadata": {
      "byteLimit": 2048000,
      "rowLimit": 10000
     },
     "inputWidgets": {},
     "nuid": "e82630c7-ace9-446a-ad9e-548f6cb97581",
     "showTitle": false,
     "title": ""
    }
   },
   "outputs": [
    {
     "output_type": "stream",
     "name": "stdout",
     "output_type": "stream",
     "text": [
      "Out[20]: [('directory', 1),\n ('datasets', 1),\n ('', 51),\n ('*', 3),\n ('`california_housing_data*.csv`', 1),\n ('is', 4),\n ('housing', 1),\n ('1990', 1),\n ('more', 1),\n ('at:', 2),\n ('https://developers.google.com/machine-learning/crash-course/california-housing-data-description',\n  1),\n ('`mnist_*.csv`', 1),\n ('of', 2),\n (\"[Anscombe's\", 1),\n ('was', 2),\n ('originally', 1),\n ('in', 2),\n ('Anscombe,', 1),\n ('F.', 1),\n (\"'Graphs\", 1),\n ('American', 1),\n ('Statistician.', 1),\n ('(1):', 1),\n ('prepared', 1),\n ('This', 1),\n ('includes', 1),\n ('a', 3),\n ('few', 1),\n ('sample', 2),\n ('to', 1),\n ('get', 1),\n ('you', 1),\n ('started.', 1),\n ('California', 1),\n ('data', 1),\n ('from', 1),\n ('the', 3),\n ('US', 1),\n ('Census;', 1),\n ('information', 1),\n ('available', 1),\n ('small', 1),\n ('[MNIST', 1),\n ('database](https://en.wikipedia.org/wiki/MNIST_database),', 1),\n ('which', 1),\n ('described', 2),\n ('http://yann.lecun.com/exdb/mnist/', 1),\n ('`anscombe.json`', 1),\n ('contains', 1),\n ('copy', 2),\n ('quartet](https://en.wikipedia.org/wiki/Anscombe%27s_quartet);', 1),\n ('it', 1),\n ('J.', 1),\n ('(1973).', 1),\n ('Statistical', 1),\n (\"Analysis'.\", 1),\n ('27', 1),\n ('17-21.', 1),\n ('JSTOR', 1),\n ('2682899.', 1),\n ('and', 1),\n ('our', 1),\n ('by', 1),\n ('[vega_datasets', 1),\n ('library](https://github.com/altair-viz/vega_datasets/blob/4f67bdaad10f45e3549984e17e1b3088c731503d/vega_datasets/_data/anscombe.json).',\n  1)]"
     ]
    }
   ],
   "source": [
    "counts.collect()"
   ]
  },
  {
   "cell_type": "code",
   "execution_count": 0,
   "metadata": {
    "application/vnd.databricks.v1+cell": {
     "cellMetadata": {
      "byteLimit": 2048000,
      "rowLimit": 10000
     },
     "inputWidgets": {},
     "nuid": "bc929f0b-3685-49c9-9775-3c5bf93831df",
     "showTitle": false,
     "title": ""
    }
   },
   "outputs": [
    {
     "output_type": "stream",
     "name": "stdout",
     "output_type": "stream",
     "text": [
      "Out[21]: 65"
     ]
    }
   ],
   "source": [
    "counts.count()"
   ]
  }
 ],
 "metadata": {
  "application/vnd.databricks.v1+notebook": {
   "dashboards": [],
   "language": "python",
   "notebookMetadata": {
    "pythonIndentUnit": 4
   },
   "notebookName": "work count by Spark via Pyspark",
   "widgets": {}
  }
 },
 "nbformat": 4,
 "nbformat_minor": 0
}
